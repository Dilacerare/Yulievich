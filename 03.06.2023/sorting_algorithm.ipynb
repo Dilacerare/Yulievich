{
 "cells": [
  {
   "cell_type": "markdown",
   "source": [
    "## Сортировка пузырьком"
   ],
   "metadata": {
    "collapsed": false
   }
  },
  {
   "cell_type": "code",
   "execution_count": 44,
   "outputs": [],
   "source": [
    "import numpy as np\n",
    "import time\n",
    "import matplotlib.pyplot as plt\n",
    "from sklearn.linear_model import LinearRegression"
   ],
   "metadata": {
    "collapsed": false
   }
  },
  {
   "cell_type": "code",
   "execution_count": 2,
   "outputs": [],
   "source": [
    "def bubbleSort(arr):\n",
    "    n = len(arr)\n",
    "    for i in range(n-1):\n",
    "        for j in range(n-i-1):\n",
    "            if arr[j] > arr[j+1]:\n",
    "                arr[j], arr[j+1] = arr[j+1], arr[j]\n",
    "    return arr"
   ],
   "metadata": {
    "collapsed": false
   }
  },
  {
   "cell_type": "code",
   "execution_count": 9,
   "outputs": [
    {
     "name": "stdout",
     "output_type": "stream",
     "text": [
      "[6 2 8 5 7 4 5 4 2 8]\n",
      "[2 2 4 4 5 5 6 7 8 8]\n"
     ]
    }
   ],
   "source": [
    "arr = np.random.randint(0, 9, 10)\n",
    "print(arr)\n",
    "print(bubbleSort(arr))"
   ],
   "metadata": {
    "collapsed": false
   }
  },
  {
   "cell_type": "code",
   "execution_count": 10,
   "outputs": [
    {
     "name": "stdout",
     "output_type": "stream",
     "text": [
      "2.5699999980588473e-05\n",
      "Wall time: 0 ns\n"
     ]
    }
   ],
   "source": [
    "%%time\n",
    "n = 10\n",
    "x = list(range(n, 0, -1))\n",
    "bubbleSort(x)"
   ],
   "metadata": {
    "collapsed": false
   }
  },
  {
   "cell_type": "markdown",
   "source": [
    "| n     | t        |\n",
    "|-------|----------|\n",
    "| 100   | 1e+03 µs |\n",
    "| 1000  | 87 ms    |\n",
    "| 10000 | 9.68 s   |"
   ],
   "metadata": {
    "collapsed": false
   }
  },
  {
   "cell_type": "code",
   "execution_count": 14,
   "outputs": [
    {
     "data": {
      "text/plain": "<Figure size 432x288 with 1 Axes>",
      "image/png": "[encoded data removed]"
     },
     "metadata": {
      "needs_background": "light"
     },
     "output_type": "display_data"
    }
   ],
   "source": [
    "n = [100, 1000, 10000]\n",
    "t = [1000e-6, 87e-3, 9.68]\n",
    "plt.scatter(n, t)\n",
    "plt.show()"
   ],
   "metadata": {
    "collapsed": false
   }
  },
  {
   "cell_type": "code",
   "execution_count": 15,
   "outputs": [
    {
     "data": {
      "text/plain": "<Figure size 432x288 with 1 Axes>",
      "image/png": "[encoded data removed]"
     },
     "metadata": {
      "needs_background": "light"
     },
     "output_type": "display_data"
    }
   ],
   "source": [
    "lg_n = np.log10(n)\n",
    "lg_t = np.log10(t)\n",
    "\n",
    "plt.scatter(lg_n, lg_t)\n",
    "plt.show()"
   ],
   "metadata": {
    "collapsed": false
   }
  },
  {
   "cell_type": "markdown",
   "source": [
    "## Вычислительный эксперемент"
   ],
   "metadata": {
    "collapsed": false
   }
  },
  {
   "cell_type": "code",
   "execution_count": 17,
   "outputs": [
    {
     "name": "stdout",
     "output_type": "stream",
     "text": [
      "\n",
      "1000:0123456789\n",
      "1200:0123456789\n",
      "1400:0123456789\n",
      "1600:0123456789\n",
      "1800:0123456789\n",
      "2000:0123456789\n",
      "2200:0123456789\n",
      "2400:0123456789\n",
      "2600:0123456789\n",
      "2800:0123456789\n",
      "3000:0123456789\n",
      "3200:0123456789\n",
      "3400:0123456789\n",
      "3600:0123456789\n",
      "3800:0123456789\n",
      "4000:0123456789\n",
      "4200:0123456789\n",
      "4400:0123456789\n",
      "4600:0123456789\n",
      "4800:0123456789\n",
      "5000:0123456789\n",
      "5200:0123456789\n",
      "5400:0123456789\n",
      "5600:0123456789\n",
      "5800:0123456789"
     ]
    }
   ],
   "source": [
    "n_lst = range(1000, 6000, 200)\n",
    "\n",
    "#Пустые списки для размера данных и времени вычислений\n",
    "ti=[]\n",
    "nn=[]\n",
    "# В цикле перебираем значения п\n",
    "for n in n_lst:\n",
    "  print(f\"\\n{n}:\", end=\"\")\n",
    "  # В цикле делаем по 10 погонов для каждого п\n",
    "  for i in range(10):\n",
    "    print(i, end=\"\")\n",
    "    x = list(range(n,0, -1))\n",
    "    # Фиксируем время начала расчетов\n",
    "    start_time = time.time()\n",
    "    # Вызываем нашу функцию при заданном п\n",
    "    m = bubbleSort(x)\n",
    "    #Фиксируем время окончания расчетов\n",
    "    end_time = time.time()\n",
    "    # Находим продолжительность расчетов\n",
    "    total_time = end_time - start_time\n",
    "    # Собираем результаты измерений в списки\n",
    "    nn.append(n)\n",
    "    ti.append(total_time)"
   ],
   "metadata": {
    "collapsed": false
   }
  },
  {
   "cell_type": "code",
   "execution_count": 18,
   "outputs": [
    {
     "data": {
      "text/plain": "<Figure size 432x288 with 1 Axes>",
      "image/png": "[encoded data removed]"
     },
     "metadata": {
      "needs_background": "light"
     },
     "output_type": "display_data"
    }
   ],
   "source": [
    "plt.scatter(nn,ti)\n",
    "plt.show()"
   ],
   "metadata": {
    "collapsed": false
   }
  },
  {
   "cell_type": "code",
   "execution_count": 19,
   "outputs": [
    {
     "data": {
      "text/plain": "<Figure size 432x288 with 1 Axes>",
      "image/png": "[encoded data removed]"
     },
     "metadata": {
      "needs_background": "light"
     },
     "output_type": "display_data"
    }
   ],
   "source": [
    "plt.scatter(np.array(nn)**2, ti)\n",
    "plt.show()"
   ],
   "metadata": {
    "collapsed": false
   }
  },
  {
   "cell_type": "code",
   "execution_count": 24,
   "outputs": [
    {
     "data": {
      "text/plain": "([1000, 1000, 1000, 1000, 1000, 1000, 1000, 1000, 1000, 1000],\n [0.08805513381958008,\n  0.09094476699829102,\n  0.08800053596496582,\n  0.12899422645568848,\n  0.09499883651733398,\n  0.08999967575073242,\n  0.10100722312927246,\n  0.10299181938171387,\n  0.0930013656616211,\n  0.09200668334960938])"
     },
     "execution_count": 24,
     "metadata": {},
     "output_type": "execute_result"
    }
   ],
   "source": [
    "nn[:10], ti[:10]"
   ],
   "metadata": {
    "collapsed": false
   }
  },
  {
   "cell_type": "code",
   "execution_count": 28,
   "outputs": [
    {
     "data": {
      "text/plain": "<Figure size 432x288 with 1 Axes>",
      "image/png": "[encoded data removed]"
     },
     "metadata": {
      "needs_background": "light"
     },
     "output_type": "display_data"
    }
   ],
   "source": [
    "plt.scatter(range(10), ti[:10])\n",
    "plt.show()"
   ],
   "metadata": {
    "collapsed": false
   }
  },
  {
   "cell_type": "code",
   "execution_count": 23,
   "outputs": [
    {
     "name": "stdout",
     "output_type": "stream",
     "text": [
      "0.09250402450561523\n"
     ]
    }
   ],
   "source": [
    "print(np.median(ti[:10]))"
   ],
   "metadata": {
    "collapsed": false
   }
  },
  {
   "cell_type": "code",
   "execution_count": 25,
   "outputs": [
    {
     "data": {
      "text/plain": "([1200, 1200, 1200, 1200, 1200, 1200, 1200, 1200, 1200, 1200],\n [0.13300466537475586,\n  0.1449873447418213,\n  0.14600014686584473,\n  0.14100027084350586,\n  0.13499999046325684,\n  0.13299989700317383,\n  0.13100051879882812,\n  0.13100075721740723,\n  0.13199925422668457,\n  0.13300180435180664])"
     },
     "execution_count": 25,
     "metadata": {},
     "output_type": "execute_result"
    }
   ],
   "source": [
    "nn[10:20], ti[10:20]"
   ],
   "metadata": {
    "collapsed": false
   }
  },
  {
   "cell_type": "code",
   "execution_count": 26,
   "outputs": [
    {
     "data": {
      "text/plain": "<Figure size 432x288 with 1 Axes>",
      "image/png": "[encoded data removed]"
     },
     "metadata": {
      "needs_background": "light"
     },
     "output_type": "display_data"
    }
   ],
   "source": [
    "plt.scatter(range(10), ti[10:20])\n",
    "plt.show()"
   ],
   "metadata": {
    "collapsed": false
   }
  },
  {
   "cell_type": "code",
   "execution_count": 40,
   "outputs": [
    {
     "data": {
      "text/plain": "25.0"
     },
     "execution_count": 40,
     "metadata": {},
     "output_type": "execute_result"
    }
   ],
   "source": [
    "len(nn)/10"
   ],
   "metadata": {
    "collapsed": false
   }
  },
  {
   "cell_type": "code",
   "execution_count": 41,
   "outputs": [],
   "source": [
    "tm = []\n",
    "nm = []\n",
    "for i in range(25):\n",
    "    tm += [np.median(ti[i*10 : (i + 1) * 10])]\n",
    "    nm += [nn[i * 10]]"
   ],
   "metadata": {
    "collapsed": false
   }
  },
  {
   "cell_type": "code",
   "execution_count": 42,
   "outputs": [
    {
     "data": {
      "text/plain": "<Figure size 432x288 with 1 Axes>",
      "image/png": "[encoded data removed]"
     },
     "metadata": {
      "needs_background": "light"
     },
     "output_type": "display_data"
    }
   ],
   "source": [
    "plt.scatter(tm, nm)\n",
    "plt.show()"
   ],
   "metadata": {
    "collapsed": false
   }
  },
  {
   "cell_type": "code",
   "execution_count": 45,
   "outputs": [
    {
     "data": {
      "text/plain": "LinearRegression()"
     },
     "execution_count": 45,
     "metadata": {},
     "output_type": "execute_result"
    }
   ],
   "source": [
    "lin_mod = LinearRegression()\n",
    "n = (np.array(nm)**2).reshape(-1, 1)\n",
    "lin_mod.fit(n, tm)"
   ],
   "metadata": {
    "collapsed": false
   }
  },
  {
   "cell_type": "code",
   "execution_count": 46,
   "outputs": [],
   "source": [
    "t_predict = lin_mod.predict(n)"
   ],
   "metadata": {
    "collapsed": false
   }
  },
  {
   "cell_type": "code",
   "execution_count": 47,
   "outputs": [
    {
     "data": {
      "text/plain": "<Figure size 432x288 with 1 Axes>",
      "image/png": "[encoded data removed]"
     },
     "metadata": {
      "needs_background": "light"
     },
     "output_type": "display_data"
    }
   ],
   "source": [
    "plt.scatter(nm, tm)\n",
    "plt.plot(nm, t_predict, color='red')\n",
    "plt.show()"
   ],
   "metadata": {
    "collapsed": false
   }
  },
  {
   "cell_type": "code",
   "execution_count": 48,
   "outputs": [
    {
     "data": {
      "text/plain": "array([9.31271622e-08])"
     },
     "execution_count": 48,
     "metadata": {},
     "output_type": "execute_result"
    }
   ],
   "source": [
    "lin_mod.coef_"
   ],
   "metadata": {
    "collapsed": false
   }
  },
  {
   "cell_type": "code",
   "execution_count": 49,
   "outputs": [
    {
     "data": {
      "text/plain": "0.0069257173385837145"
     },
     "execution_count": 49,
     "metadata": {},
     "output_type": "execute_result"
    }
   ],
   "source": [
    "lin_mod.intercept_"
   ],
   "metadata": {
    "collapsed": false
   }
  },
  {
   "cell_type": "code",
   "execution_count": 51,
   "outputs": [
    {
     "name": "stdout",
     "output_type": "stream",
     "text": [
      "T(n) = 6.926e-03 + 9.313e-08 * n^2\n"
     ]
    }
   ],
   "source": [
    "print(f\"T(n) = {lin_mod.intercept_:.3e} + {lin_mod.coef_[0]:.3e} * n^2\")"
   ],
   "metadata": {
    "collapsed": false
   }
  },
  {
   "cell_type": "markdown",
   "source": [
    "**Выводы**\n",
    "\n",
    "Длительность сортировки методом пузырька возрастает пропорционально квадрату размера исходного массива чисел $n$.\n",
    "\n",
    "Вычислительная сложность сортировки пузырьком $O(n^2)$.\n",
    "\n",
    "Эксперементально получена следующая зависимость:\n",
    "\n",
    "$$T(n) = 6.926\\cdot10^{-3} + 9.313\\cdot10^{-8} \\cdot n^2$$"
   ],
   "metadata": {
    "collapsed": false
   }
  },
  {
   "cell_type": "markdown",
   "source": [
    "## Сортировка..."
   ],
   "metadata": {
    "collapsed": false
   }
  }
 ],
 "metadata": {
  "kernelspec": {
   "display_name": "Python 3",
   "language": "python",
   "name": "python3"
  },
  "language_info": {
   "codemirror_mode": {
    "name": "ipython",
    "version": 2
   },
   "file_extension": ".py",
   "mimetype": "text/x-python",
   "name": "python",
   "nbconvert_exporter": "python",
   "pygments_lexer": "ipython2",
   "version": "2.7.6"
  }
 },
 "nbformat": 4,
 "nbformat_minor": 0
}
